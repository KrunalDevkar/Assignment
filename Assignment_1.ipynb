{
 "cells": [
  {
   "cell_type": "markdown",
   "id": "74d9bd33",
   "metadata": {},
   "source": [
    "# Excercise"
   ]
  },
  {
   "cell_type": "markdown",
   "id": "bd7de5cb",
   "metadata": {},
   "source": [
    "** What is 7 to the power of 4?**"
   ]
  },
  {
   "cell_type": "code",
   "execution_count": 1,
   "id": "59cf6210",
   "metadata": {},
   "outputs": [
    {
     "data": {
      "text/plain": [
       "2401"
      ]
     },
     "execution_count": 1,
     "metadata": {},
     "output_type": "execute_result"
    }
   ],
   "source": [
    "7**4"
   ]
  },
  {
   "cell_type": "markdown",
   "id": "5a335cea",
   "metadata": {},
   "source": [
    "** Split this string:**\n",
    "\n",
    "s = \"Hi there Yogesh!\"\n",
    "*into a list. *"
   ]
  },
  {
   "cell_type": "code",
   "execution_count": 13,
   "id": "9ece3869",
   "metadata": {},
   "outputs": [],
   "source": [
    "s = \"Hi there Yogesh!\".split( )"
   ]
  },
  {
   "cell_type": "code",
   "execution_count": 14,
   "id": "01a4f7c8",
   "metadata": {},
   "outputs": [
    {
     "data": {
      "text/plain": [
       "['Hi', 'there', 'Yogesh!']"
      ]
     },
     "execution_count": 14,
     "metadata": {},
     "output_type": "execute_result"
    }
   ],
   "source": [
    "s"
   ]
  },
  {
   "cell_type": "code",
   "execution_count": 15,
   "id": "6d68b6ed",
   "metadata": {},
   "outputs": [
    {
     "data": {
      "text/plain": [
       "list"
      ]
     },
     "execution_count": 15,
     "metadata": {},
     "output_type": "execute_result"
    }
   ],
   "source": [
    "type(s)"
   ]
  },
  {
   "cell_type": "markdown",
   "id": "74d943da",
   "metadata": {},
   "source": [
    "** Given the variables:**\n",
    "\n",
    "planet = \"Earth\"\n",
    "diameter = 12742\n",
    "** Use .format() to print the following string: **\n",
    "\n",
    "The diameter of Earth is 12742 kilometers."
   ]
  },
  {
   "cell_type": "code",
   "execution_count": 16,
   "id": "5ef9b814",
   "metadata": {},
   "outputs": [],
   "source": [
    "planet=\"Earth\"\n",
    "diameter=\"12742\""
   ]
  },
  {
   "cell_type": "code",
   "execution_count": 17,
   "id": "c3e75b44",
   "metadata": {},
   "outputs": [
    {
     "data": {
      "text/plain": [
       "'The diameter of Earth is 12742 kilometers.'"
      ]
     },
     "execution_count": 17,
     "metadata": {},
     "output_type": "execute_result"
    }
   ],
   "source": [
    "\"The diameter of {} is {} kilometers.\".format(planet,diameter)"
   ]
  },
  {
   "cell_type": "markdown",
   "id": "0a508bfd",
   "metadata": {},
   "source": [
    "** Given this nested list, use indexing to grab the word \"hello\" **"
   ]
  },
  {
   "cell_type": "code",
   "execution_count": 18,
   "id": "72668471",
   "metadata": {},
   "outputs": [],
   "source": [
    "lst = [1,2,[3,4],[5,[100,200,['hello']],23,11],1,7]"
   ]
  },
  {
   "cell_type": "code",
   "execution_count": 19,
   "id": "6bccfa4a",
   "metadata": {},
   "outputs": [
    {
     "data": {
      "text/plain": [
       "[1, 2, [3, 4], [5, [100, 200, ['hello']], 23, 11], 1, 7]"
      ]
     },
     "execution_count": 19,
     "metadata": {},
     "output_type": "execute_result"
    }
   ],
   "source": [
    "lst"
   ]
  },
  {
   "cell_type": "code",
   "execution_count": 24,
   "id": "7788d0c4",
   "metadata": {},
   "outputs": [
    {
     "data": {
      "text/plain": [
       "'hello'"
      ]
     },
     "execution_count": 24,
     "metadata": {},
     "output_type": "execute_result"
    }
   ],
   "source": [
    "lst[3][1][2][0]"
   ]
  },
  {
   "cell_type": "markdown",
   "id": "c6e6ab28",
   "metadata": {},
   "source": [
    "** Given this nested dictionary grab the word \"hello\". Be prepared, this will be annoying/tricky **"
   ]
  },
  {
   "cell_type": "code",
   "execution_count": 25,
   "id": "49dc4b70",
   "metadata": {},
   "outputs": [],
   "source": [
    "d = {'k1':[1,2,3,{'tricky':['oh','man','inception',{'target':[1,2,3,'hello']}]}]}"
   ]
  },
  {
   "cell_type": "code",
   "execution_count": 26,
   "id": "913b0944",
   "metadata": {},
   "outputs": [
    {
     "data": {
      "text/plain": [
       "{'k1': [1,\n",
       "  2,\n",
       "  3,\n",
       "  {'tricky': ['oh', 'man', 'inception', {'target': [1, 2, 3, 'hello']}]}]}"
      ]
     },
     "execution_count": 26,
     "metadata": {},
     "output_type": "execute_result"
    }
   ],
   "source": [
    "d"
   ]
  },
  {
   "cell_type": "code",
   "execution_count": 32,
   "id": "8c7e207f",
   "metadata": {},
   "outputs": [
    {
     "data": {
      "text/plain": [
       "'hello'"
      ]
     },
     "execution_count": 32,
     "metadata": {},
     "output_type": "execute_result"
    }
   ],
   "source": [
    "d['k1'][3]['tricky'][3]['target'][3]"
   ]
  },
  {
   "cell_type": "markdown",
   "id": "9224665a",
   "metadata": {},
   "source": [
    "** What is the main difference between a tuple and a list? **"
   ]
  },
  {
   "cell_type": "code",
   "execution_count": 33,
   "id": "5e23c662",
   "metadata": {},
   "outputs": [],
   "source": [
    "## Tuple is Immutable"
   ]
  },
  {
   "cell_type": "markdown",
   "id": "8dc32e96",
   "metadata": {},
   "source": [
    "** Create a function that grabs the email website domain from a string in the form: **\n",
    "\n",
    "user@domain.com\n",
    "So for example, passing \"user@domain.com\" would return: domain.com"
   ]
  },
  {
   "cell_type": "code",
   "execution_count": 35,
   "id": "10bebdd3",
   "metadata": {},
   "outputs": [],
   "source": [
    "def fun(x):\n",
    "    return \"xyz@gmail.com\".split('@')[1]"
   ]
  },
  {
   "cell_type": "code",
   "execution_count": 36,
   "id": "6e6b1d13",
   "metadata": {},
   "outputs": [
    {
     "data": {
      "text/plain": [
       "'gmail.com'"
      ]
     },
     "execution_count": 36,
     "metadata": {},
     "output_type": "execute_result"
    }
   ],
   "source": [
    "fun('xyz@gmail.com')"
   ]
  },
  {
   "cell_type": "markdown",
   "id": "6c4be192",
   "metadata": {},
   "source": [
    "** Create a basic function that returns True if the word 'dog' is contained in the input string. Don't worry about edge cases like a punctuation being attached to the word dog, but do account for capitalization. **"
   ]
  },
  {
   "cell_type": "code",
   "execution_count": 45,
   "id": "bb685772",
   "metadata": {},
   "outputs": [],
   "source": [
    "def Dog(x):\n",
    "    if \"dog\" in x.lower():\n",
    "        return (True)\n",
    "    else:\n",
    "        return (False)"
   ]
  },
  {
   "cell_type": "code",
   "execution_count": 48,
   "id": "7012d486",
   "metadata": {},
   "outputs": [
    {
     "data": {
      "text/plain": [
       "True"
      ]
     },
     "execution_count": 48,
     "metadata": {},
     "output_type": "execute_result"
    }
   ],
   "source": [
    "Dog(\"This is your DoG?\")"
   ]
  },
  {
   "cell_type": "markdown",
   "id": "6893c2e5",
   "metadata": {},
   "source": [
    "** Create a function that counts the number of times the word \"dog\" occurs in a string. Again ignore edge cases. **"
   ]
  },
  {
   "cell_type": "code",
   "execution_count": 81,
   "id": "0c713bf1",
   "metadata": {},
   "outputs": [],
   "source": [
    "def Dog(x):\n",
    "    c=0\n",
    "    for w in x.lower().split():\n",
    "        if w=='dog':\n",
    "            c+=1\n",
    "    return c"
   ]
  },
  {
   "cell_type": "code",
   "execution_count": 85,
   "id": "17f8d7ed",
   "metadata": {},
   "outputs": [
    {
     "data": {
      "text/plain": [
       "3"
      ]
     },
     "execution_count": 85,
     "metadata": {},
     "output_type": "execute_result"
    }
   ],
   "source": [
    "Dog('Dogro dog do dogthe dog dog')"
   ]
  },
  {
   "cell_type": "markdown",
   "id": "0c275c8b",
   "metadata": {},
   "source": [
    "** Use lambda expressions and the filter() function to filter out words from a list that don't start with the letter 's'. For example:**\n",
    "\n",
    "seq = ['soup','dog','salad','cat','great']\n",
    "should be filtered down to:\n",
    "\n",
    "['soup','salad']"
   ]
  },
  {
   "cell_type": "code",
   "execution_count": 86,
   "id": "39f284f2",
   "metadata": {},
   "outputs": [],
   "source": [
    "seq = ['soup','dog','salad','cat','great'] "
   ]
  },
  {
   "cell_type": "code",
   "execution_count": 87,
   "id": "99633d04",
   "metadata": {},
   "outputs": [
    {
     "data": {
      "text/plain": [
       "['soup', 'dog', 'salad', 'cat', 'great']"
      ]
     },
     "execution_count": 87,
     "metadata": {},
     "output_type": "execute_result"
    }
   ],
   "source": [
    "seq"
   ]
  },
  {
   "cell_type": "code",
   "execution_count": 88,
   "id": "8fee2963",
   "metadata": {},
   "outputs": [
    {
     "data": {
      "text/plain": [
       "list"
      ]
     },
     "execution_count": 88,
     "metadata": {},
     "output_type": "execute_result"
    }
   ],
   "source": [
    "type(seq)"
   ]
  },
  {
   "cell_type": "code",
   "execution_count": 89,
   "id": "4a2616d3",
   "metadata": {},
   "outputs": [
    {
     "data": {
      "text/plain": [
       "<map at 0x12b2785e520>"
      ]
     },
     "execution_count": 89,
     "metadata": {},
     "output_type": "execute_result"
    }
   ],
   "source": [
    "map(lambda x:x[0]!='s',seq)"
   ]
  },
  {
   "cell_type": "code",
   "execution_count": 99,
   "id": "dcf6b20a",
   "metadata": {},
   "outputs": [
    {
     "data": {
      "text/plain": [
       "['dog', 'cat', 'great']"
      ]
     },
     "execution_count": 99,
     "metadata": {},
     "output_type": "execute_result"
    }
   ],
   "source": [
    "list(filter(lambda x:x[0]!='s',seq))"
   ]
  },
  {
   "cell_type": "code",
   "execution_count": 101,
   "id": "5d770982",
   "metadata": {},
   "outputs": [
    {
     "data": {
      "text/plain": [
       "['soup', 'salad']"
      ]
     },
     "execution_count": 101,
     "metadata": {},
     "output_type": "execute_result"
    }
   ],
   "source": [
    "list(filter(lambda x:x[0]=='s',seq))"
   ]
  },
  {
   "cell_type": "markdown",
   "id": "388ba1cc",
   "metadata": {},
   "source": [
    "# Final Problem\n",
    "*You are driving a little too fast, and a police officer stops you. Write a function to return one of 3 possible results: \"No ticket\", \"Small ticket\", or \"Big Ticket\". If your speed is 60 or less, the result is \"No Ticket\". If speed is between 61 and 80 inclusive, the result is \"Small Ticket\". If speed is 81 or more, the result is \"Big Ticket\". Unless it is your birthday (encoded as a boolean value in the parameters of the function) -- on your birthday, your speed can be 5 higher in all cases. *"
   ]
  },
  {
   "cell_type": "code",
   "execution_count": 124,
   "id": "37612a34",
   "metadata": {},
   "outputs": [],
   "source": [
    "def Speed(s,b):\n",
    "    if b==True:\n",
    "        ns = s-5\n",
    "    else:\n",
    "        ns=s\n",
    "    if ns>80:\n",
    "        print(\"Big Ticket\")\n",
    "    elif ns>60:\n",
    "        print(\"Small Ticket\")\n",
    "    else:\n",
    "        print(\"No Ticket\")"
   ]
  },
  {
   "cell_type": "code",
   "execution_count": 129,
   "id": "5107fe2b",
   "metadata": {},
   "outputs": [
    {
     "name": "stdout",
     "output_type": "stream",
     "text": [
      "No Ticket\n"
     ]
    }
   ],
   "source": [
    "Speed(61,True)"
   ]
  },
  {
   "cell_type": "code",
   "execution_count": 130,
   "id": "225867a4",
   "metadata": {},
   "outputs": [
    {
     "name": "stdout",
     "output_type": "stream",
     "text": [
      "Small Ticket\n"
     ]
    }
   ],
   "source": [
    "Speed(81,True)"
   ]
  },
  {
   "cell_type": "code",
   "execution_count": 131,
   "id": "bde2489f",
   "metadata": {},
   "outputs": [
    {
     "name": "stdout",
     "output_type": "stream",
     "text": [
      "Big Ticket\n"
     ]
    }
   ],
   "source": [
    "Speed(81,False)"
   ]
  },
  {
   "cell_type": "code",
   "execution_count": 132,
   "id": "1adc89c8",
   "metadata": {},
   "outputs": [
    {
     "name": "stdout",
     "output_type": "stream",
     "text": [
      "Small Ticket\n"
     ]
    }
   ],
   "source": [
    "Speed(61,False)"
   ]
  },
  {
   "cell_type": "markdown",
   "id": "507f681b",
   "metadata": {},
   "source": [
    "# Question\n",
    "\n",
    "Given a string print number num by extracting all the\n",
    "digits from the string as in string\n",
    "Print negative number if the first character in \n",
    "string is '-'\n",
    "eg.\n",
    "-123abcd should return -123,abcd456-->456,fdhfh78dsd89--->7889,-56dssd78-->-5678"
   ]
  },
  {
   "cell_type": "code",
   "execution_count": 152,
   "id": "9ce02fcb",
   "metadata": {},
   "outputs": [
    {
     "name": "stdout",
     "output_type": "stream",
     "text": [
      "Enter the Input String:-65465asdc\n",
      "-65465\n"
     ]
    }
   ],
   "source": [
    "s=input(\"Enter the Input String:\")\n",
    "num=\"\"\n",
    "data=[0,1,2,3,4,5,6,7,8,9]\n",
    "if s[0]=='-':\n",
    "    num=num+s[0]\n",
    "for c in s:\n",
    "    if c in str(data):\n",
    "        num=num+c\n",
    "print(num)"
   ]
  },
  {
   "cell_type": "markdown",
   "id": "46c67aac",
   "metadata": {},
   "source": [
    "Q2\n",
    "Write a program to check whether a number is palindrome or not on following conditions.\n",
    "1. take input number\n",
    "2. add number and its reverse\n",
    "3. check that number is palindrome or not,if not then sum and its reverse"
   ]
  },
  {
   "cell_type": "code",
   "execution_count": 169,
   "id": "363b9d4e",
   "metadata": {},
   "outputs": [
    {
     "name": "stdout",
     "output_type": "stream",
     "text": [
      "Enter the Number: 88\n",
      "Number is:  176\n",
      "Reverse is:  671\n",
      "Number is:  847\n",
      "Reverse is:  748\n",
      "Number is:  1595\n",
      "Reverse is:  5951\n",
      "Number is:  7546\n",
      "Reverse is:  6457\n",
      "Number is:  14003\n",
      "Reverse is:  30041\n",
      "Number is:  44044\n",
      "Reverse is:  44044\n",
      "Palindrome is:  44044\n"
     ]
    }
   ],
   "source": [
    "x=input(\"Enter the Number: \")\n",
    "y=int(x[::-1])\n",
    "z=str(int(x)+y)\n",
    "print(\"Number is: \",z)\n",
    "print(\"Reverse is: \",z[::-1])\n",
    "while z!=z[::-1]:\n",
    "    z=str(int(z)+int(z[::-1]))\n",
    "    print(\"Number is: \",z)\n",
    "    print(\"Reverse is: \",z[::-1])\n",
    "print(\"Palindrome is: \",z)"
   ]
  },
  {
   "cell_type": "markdown",
   "id": "1c769800",
   "metadata": {},
   "source": [
    "Write a python function to find and display the five \n",
    "digit number in which the first digit is two more than \n",
    "the second,the second digit is two more than the third,\n",
    "the fourth digit is two less than the third, and the \n",
    "last digit is two more than\n",
    "the fourth.The sum of the third,fourth and fifth digits\n",
    "equals the first.The sum of all the digits is 19"
   ]
  },
  {
   "cell_type": "code",
   "execution_count": 170,
   "id": "a6b1987d",
   "metadata": {},
   "outputs": [],
   "source": [
    "def fun1():\n",
    "    for a in range(0,10):\n",
    "        b=a-2\n",
    "        c=b-2\n",
    "        d=c-2\n",
    "        if c+d+c==a and a+b+c+d+c==19:\n",
    "            print(str(a)+str(b)+str(c)+str(d)+str(c))"
   ]
  },
  {
   "cell_type": "code",
   "execution_count": 172,
   "id": "fd2296da",
   "metadata": {},
   "outputs": [
    {
     "name": "stdout",
     "output_type": "stream",
     "text": [
      "75313\n"
     ]
    }
   ],
   "source": [
    "fun1()"
   ]
  },
  {
   "cell_type": "code",
   "execution_count": null,
   "id": "f39e4560",
   "metadata": {},
   "outputs": [],
   "source": []
  }
 ],
 "metadata": {
  "kernelspec": {
   "display_name": "Python 3 (ipykernel)",
   "language": "python",
   "name": "python3"
  },
  "language_info": {
   "codemirror_mode": {
    "name": "ipython",
    "version": 3
   },
   "file_extension": ".py",
   "mimetype": "text/x-python",
   "name": "python",
   "nbconvert_exporter": "python",
   "pygments_lexer": "ipython3",
   "version": "3.9.13"
  }
 },
 "nbformat": 4,
 "nbformat_minor": 5
}
